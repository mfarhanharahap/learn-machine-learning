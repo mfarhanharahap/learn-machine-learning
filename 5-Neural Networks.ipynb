{
 "cells": [
  {
   "cell_type": "code",
   "execution_count": 1,
   "metadata": {},
   "outputs": [
    {
     "data": {
      "image/png": "[encoded data removed]",
      "text/plain": [
       "<Figure size 432x288 with 1 Axes>"
      ]
     },
     "metadata": {
      "needs_background": "light"
     },
     "output_type": "display_data"
    }
   ],
   "source": [
    "from sklearn.datasets import make_classification\n",
    "X, y = make_classification(n_features=2, n_redundant=0, n_informative=2, random_state=3)\n",
    "\n",
    "from matplotlib import pyplot as plt\n",
    "plt.scatter(X[y==0][:,0], X[y==0][:,1], s=100, edgecolors='k')\n",
    "plt.scatter(X[y==1][:,0], X[y==1][:,1], s=100, edgecolors='k', marker='^')\n",
    "plt.show()"
   ]
  },
  {
   "cell_type": "code",
   "execution_count": 4,
   "metadata": {},
   "outputs": [
    {
     "name": "stdout",
     "output_type": "stream",
     "text": [
      "accuracy:  0.68\n"
     ]
    }
   ],
   "source": [
    "from sklearn.datasets import make_classification\n",
    "from sklearn.model_selection import train_test_split\n",
    "from sklearn.neural_network import MLPClassifier\n",
    "\n",
    "X, y = make_classification(n_features=2, n_redundant=0, n_informative=2, random_state=3)\n",
    "X_train, X_test, y_train, y_test = train_test_split(X, y, random_state=3)\n",
    "mlp = MLPClassifier(max_iter=1000)\n",
    "mlp.fit(X_train, y_train)\n",
    "print(\"accuracy: \", mlp.score(X_test, y_test))"
   ]
  },
  {
   "cell_type": "code",
   "execution_count": 6,
   "metadata": {},
   "outputs": [
    {
     "name": "stdout",
     "output_type": "stream",
     "text": [
      "accuracy:  0.68\n"
     ]
    }
   ],
   "source": [
    "from sklearn.model_selection import train_test_split\n",
    "from sklearn.neural_network import MLPClassifier\n",
    "\n",
    "X_train, X_test, y_train, y_test = train_test_split(X, y, random_state=3)\n",
    "mlp = MLPClassifier(max_iter=1000)\n",
    "mlp.fit(X_train, y_train)\n",
    "print(\"accuracy: \", mlp.score(X_test, y_test))"
   ]
  },
  {
   "cell_type": "code",
   "execution_count": 5,
   "metadata": {},
   "outputs": [
    {
     "name": "stdout",
     "output_type": "stream",
     "text": [
      "accuracy:  0.76\n"
     ]
    }
   ],
   "source": [
    "from sklearn.model_selection import train_test_split\n",
    "from sklearn.neural_network import MLPClassifier\n",
    "\n",
    "X_train, X_test, y_train, y_test = train_test_split(X, y, random_state=3)\n",
    "mlp = MLPClassifier(max_iter=1000, hidden_layer_sizes=(100,50), alpha=0.0001, solver='adam', random_state=3)\n",
    "mlp.fit(X_train, y_train)\n",
    "print(\"accuracy: \", mlp.score(X_test, y_test))"
   ]
  },
  {
   "cell_type": "code",
   "execution_count": 8,
   "metadata": {},
   "outputs": [
    {
     "name": "stdout",
     "output_type": "stream",
     "text": [
      "(360, 64) (360,)\n",
      "[ 0.  0.  5. 13.  9.  1.  0.  0.  0.  0. 13. 15. 10. 15.  5.  0.  0.  3.\n",
      " 15.  2.  0. 11.  8.  0.  0.  4. 12.  0.  0.  8.  8.  0.  0.  5.  8.  0.\n",
      "  0.  9.  8.  0.  0.  4. 11.  0.  1. 12.  7.  0.  0.  2. 14.  5. 10. 12.\n",
      "  0.  0.  0.  0.  6. 13. 10.  0.  0.  0.]\n",
      "0\n",
      "[[ 0.  0.  5. 13.  9.  1.  0.  0.]\n",
      " [ 0.  0. 13. 15. 10. 15.  5.  0.]\n",
      " [ 0.  3. 15.  2.  0. 11.  8.  0.]\n",
      " [ 0.  4. 12.  0.  0.  8.  8.  0.]\n",
      " [ 0.  5.  8.  0.  0.  9.  8.  0.]\n",
      " [ 0.  4. 11.  0.  1. 12.  7.  0.]\n",
      " [ 0.  2. 14.  5. 10. 12.  0.  0.]\n",
      " [ 0.  0.  6. 13. 10.  0.  0.  0.]]\n"
     ]
    }
   ],
   "source": [
    "from sklearn.datasets import load_digits\n",
    "X, y = load_digits(n_class=2, return_X_y=True)\n",
    "\n",
    "print(X.shape, y.shape)\n",
    "print(X[0])\n",
    "print(y[0])\n",
    "\n",
    "print(X[0].reshape(8,8))"
   ]
  },
  {
   "cell_type": "code",
   "execution_count": 10,
   "metadata": {},
   "outputs": [
    {
     "data": {
      "image/png": "[encoded data removed]",
      "text/plain": [
       "<Figure size 288x288 with 1 Axes>"
      ]
     },
     "metadata": {},
     "output_type": "display_data"
    }
   ],
   "source": [
    "import matplotlib.pyplot as plt\n",
    "from sklearn.datasets import load_digits\n",
    "X, y = load_digits(n_class=2, return_X_y=True)\n",
    "\n",
    "plt.matshow(X[0].reshape(8,8), cmap=plt.cm.gray)\n",
    "plt.xticks(()) #remove x trick marks\n",
    "plt.yticks(()) #remove y trick marks\n",
    "plt.show()"
   ]
  },
  {
   "cell_type": "code",
   "execution_count": 16,
   "metadata": {},
   "outputs": [
    {
     "data": {
      "image/png": "[encoded data removed]",
      "text/plain": [
       "<Figure size 288x288 with 1 Axes>"
      ]
     },
     "metadata": {},
     "output_type": "display_data"
    },
    {
     "name": "stdout",
     "output_type": "stream",
     "text": [
      "[0]\n"
     ]
    }
   ],
   "source": [
    "import matplotlib.pyplot as plt\n",
    "from sklearn.model_selection import train_test_split\n",
    "from sklearn.datasets import load_digits\n",
    "from sklearn.neural_network import MLPClassifier\n",
    "\n",
    "X, y = load_digits(n_class=2, return_X_y=True)\n",
    "\n",
    "X_train, X_test, y_train, y_test = train_test_split(X, y, random_state=2)\n",
    "mlp = MLPClassifier()\n",
    "mlp.fit(X_train, y_train)\n",
    "\n",
    "x = X_test[0]\n",
    "plt.matshow(x.reshape(8,8), cmap=plt.cm.gray)\n",
    "plt.xticks(()) #remove x trick marks\n",
    "plt.yticks(()) #remove y trick marks\n",
    "plt.show()\n",
    "print(mlp.predict([x]))"
   ]
  },
  {
   "cell_type": "code",
   "execution_count": 18,
   "metadata": {},
   "outputs": [
    {
     "data": {
      "image/png": "[encoded data removed]",
      "text/plain": [
       "<Figure size 288x288 with 1 Axes>"
      ]
     },
     "metadata": {},
     "output_type": "display_data"
    },
    {
     "name": "stdout",
     "output_type": "stream",
     "text": [
      "[1]\n",
      "1.0\n"
     ]
    }
   ],
   "source": [
    "import matplotlib.pyplot as plt\n",
    "from sklearn.model_selection import train_test_split\n",
    "from sklearn.datasets import load_digits\n",
    "from sklearn.neural_network import MLPClassifier\n",
    "\n",
    "X, y = load_digits(n_class=2, return_X_y=True)\n",
    "\n",
    "X_train, X_test, y_train, y_test = train_test_split(X, y, random_state=2)\n",
    "mlp = MLPClassifier()\n",
    "mlp.fit(X_train, y_train)\n",
    "\n",
    "x = X_test[1]\n",
    "plt.matshow(x.reshape(8,8), cmap=plt.cm.gray)\n",
    "plt.xticks(()) #remove x trick marks\n",
    "plt.yticks(()) #remove y trick marks\n",
    "plt.show()\n",
    "print(mlp.predict([x]))\n",
    "print(mlp.score(X_test, y_test))"
   ]
  },
  {
   "cell_type": "code",
   "execution_count": 19,
   "metadata": {},
   "outputs": [
    {
     "name": "stdout",
     "output_type": "stream",
     "text": [
      "0.96\n"
     ]
    }
   ],
   "source": [
    "import matplotlib.pyplot as plt\n",
    "from sklearn.model_selection import train_test_split\n",
    "from sklearn.datasets import load_digits\n",
    "from sklearn.neural_network import MLPClassifier\n",
    "\n",
    "X, y = load_digits(return_X_y=True)\n",
    "\n",
    "X_train, X_test, y_train, y_test = train_test_split(X, y, random_state=2)\n",
    "mlp = MLPClassifier(random_state=2)\n",
    "mlp.fit(X_train, y_train)\n",
    "\n",
    "print(mlp.score(X_test, y_test))"
   ]
  },
  {
   "cell_type": "code",
   "execution_count": 20,
   "metadata": {},
   "outputs": [
    {
     "data": {
      "image/png": "[encoded data removed]",
      "text/plain": [
       "<Figure size 288x288 with 1 Axes>"
      ]
     },
     "metadata": {},
     "output_type": "display_data"
    },
    {
     "name": "stdout",
     "output_type": "stream",
     "text": [
      "true value:  4\n",
      "predicted value:  9\n"
     ]
    }
   ],
   "source": [
    "import matplotlib.pyplot as plt\n",
    "from sklearn.model_selection import train_test_split\n",
    "from sklearn.datasets import load_digits\n",
    "from sklearn.neural_network import MLPClassifier\n",
    "\n",
    "X, y = load_digits(return_X_y=True)\n",
    "\n",
    "X_train, X_test, y_train, y_test = train_test_split(X, y, random_state=2)\n",
    "mlp = MLPClassifier(random_state=2)\n",
    "mlp.fit(X_train, y_train)\n",
    "\n",
    "y_pred = mlp.predict(X_test)\n",
    "incorrect = X_test[y_pred != y_test]\n",
    "incorrect_true = y_test[y_pred != y_test]\n",
    "incorrect_pred = y_pred[y_pred != y_test]\n",
    "\n",
    "j = 0\n",
    "plt.matshow(incorrect[j].reshape(8,8), cmap=plt.cm.gray)\n",
    "plt.xticks(()) #remove x trick marks\n",
    "plt.yticks(()) #remove y trick marks\n",
    "plt.show()\n",
    "print(\"true value: \", incorrect_true[j])\n",
    "print(\"predicted value: \", incorrect_pred[j])"
   ]
  },
  {
   "cell_type": "code",
   "execution_count": 21,
   "metadata": {},
   "outputs": [
    {
     "name": "stdout",
     "output_type": "stream",
     "text": [
      "(70000, 784) (70000,)\n",
      "pixel1      0.0\n",
      "pixel2      0.0\n",
      "pixel3      0.0\n",
      "pixel4      0.0\n",
      "pixel5      0.0\n",
      "           ... \n",
      "pixel780    0.0\n",
      "pixel781    0.0\n",
      "pixel782    0.0\n",
      "pixel783    0.0\n",
      "pixel784    0.0\n",
      "Length: 784, dtype: float64 pixel1       0.0\n",
      "pixel2       0.0\n",
      "pixel3       0.0\n",
      "pixel4       0.0\n",
      "pixel5       0.0\n",
      "            ... \n",
      "pixel780    62.0\n",
      "pixel781     0.0\n",
      "pixel782     0.0\n",
      "pixel783     0.0\n",
      "pixel784     0.0\n",
      "Length: 784, dtype: float64\n",
      "0    5\n",
      "1    0\n",
      "2    4\n",
      "3    1\n",
      "4    9\n",
      "Name: class, dtype: category\n",
      "Categories (10, object): ['0', '1', '2', '3', ..., '6', '7', '8', '9']\n"
     ]
    }
   ],
   "source": [
    "from sklearn.datasets import fetch_openml\n",
    "import numpy as np\n",
    "X, y = fetch_openml('mnist_784', version=1, return_X_y=True)\n",
    "\n",
    "print(X.shape, y.shape)\n",
    "print(np.min(X), np.max(X))\n",
    "print(y[0:5])"
   ]
  },
  {
   "cell_type": "code",
   "execution_count": 33,
   "metadata": {},
   "outputs": [
    {
     "data": {
      "text/plain": [
       "MLPClassifier(hidden_layer_sizes=(6,), random_state=2, solver='sgd')"
      ]
     },
     "execution_count": 33,
     "metadata": {},
     "output_type": "execute_result"
    }
   ],
   "source": [
    "from sklearn.datasets import fetch_openml\n",
    "import numpy as np\n",
    "from sklearn.neural_network import MLPClassifier\n",
    "\n",
    "X, y = fetch_openml('mnist_784', version=1, return_X_y=True)\n",
    "y = y.astype('int') \n",
    "\n",
    "X5 = X[y <= 3]\n",
    "y5 = y[y <= 3]\n",
    "\n",
    "mlp = MLPClassifier(\n",
    "    hidden_layer_sizes=(6,),\n",
    "    max_iter=200, alpha=1e-4,\n",
    "    solver='sgd', random_state=2)\n",
    "mlp.fit(X5, y5)"
   ]
  },
  {
   "cell_type": "code",
   "execution_count": 31,
   "metadata": {},
   "outputs": [
    {
     "name": "stdout",
     "output_type": "stream",
     "text": [
      "Downloading mnist dataset...\n",
      "Download complete.\n",
      "(70000, 784) (70000,)\n",
      "0.0 255.0\n",
      "0    5\n",
      "1    0\n",
      "2    4\n",
      "3    1\n",
      "4    9\n",
      "Name: class, dtype: int32\n",
      "Training MLPClassifier...\n",
      "(6, 4)\n"
     ]
    },
    {
     "data": {
      "image/png": "[encoded data removed]",
      "text/plain": [
       "<Figure size 360x288 with 6 Axes>"
      ]
     },
     "metadata": {},
     "output_type": "display_data"
    }
   ],
   "source": [
    "from sklearn.datasets import fetch_openml\n",
    "from sklearn.neural_network import MLPClassifier\n",
    "import matplotlib.pyplot as plt\n",
    "import numpy as np\n",
    "\n",
    "print(\"Downloading mnist dataset...\")\n",
    "X, y = fetch_openml('mnist_784', version=1, return_X_y=True)\n",
    "print(\"Download complete.\")\n",
    "\n",
    "print(X.shape, y.shape)\n",
    "# get the minimum and maximum pixel value of the first image\n",
    "first_image = X.iloc[0]\n",
    "print(np.min(first_image), np.max(first_image))\n",
    "# you need to convert y from categorical type to int type\n",
    "y = y.astype('int')\n",
    "print(y[0:5])\n",
    "\n",
    "X5 = X[y <= 3]\n",
    "y5 = y[y <= 3]\n",
    "\n",
    "mlp=MLPClassifier(\n",
    "  hidden_layer_sizes=(6,), \n",
    "  max_iter=200, alpha=1e-4,\n",
    "  solver='sgd', random_state=2)\n",
    "\n",
    "print(\"Training MLPClassifier...\")\n",
    "mlp.fit(X5, y5)\n",
    "\n",
    "print(mlp.coefs_[1].shape) # (6, 4) –> 6 hidden neurons and 4 output neurons\n",
    "\n",
    "fig, axes = plt.subplots(2, 3, figsize=(5, 4))\n",
    "for i, ax in enumerate(axes.ravel()):\n",
    "    coef = mlp.coefs_[0][:, i]\n",
    "    ax.matshow(coef.reshape(28, 28), cmap=plt.cm.gray)\n",
    "    ax.set_xticks(())\n",
    "    ax.set_yticks(())\n",
    "    ax.set_title(i + 1)\n",
    "plt.show()"
   ]
  },
  {
   "cell_type": "code",
   "execution_count": 35,
   "metadata": {},
   "outputs": [
    {
     "name": "stdout",
     "output_type": "stream",
     "text": [
      "[array([[-0.01115555, -0.08262704,  0.00865575, -0.01127276, -0.01387922,\n",
      "        -0.0295712 ],\n",
      "       [-0.05147724,  0.02078792, -0.03491849, -0.04064003,  0.0211126 ,\n",
      "         0.00507922],\n",
      "       [-0.06368962,  0.00236655, -0.05499946,  0.0497315 ,  0.06169489,\n",
      "        -0.00100447],\n",
      "       ...,\n",
      "       [ 0.03318762,  0.03072571,  0.04947698, -0.07695902, -0.02204115,\n",
      "        -0.0029547 ],\n",
      "       [ 0.03754479,  0.02460139,  0.03225049,  0.04285268, -0.07510524,\n",
      "        -0.05427317],\n",
      "       [-0.06503653, -0.07023555, -0.02863193, -0.0194946 ,  0.0760884 ,\n",
      "        -0.05706942]]), array([[ 0.16384443, -2.14551746,  0.13976391,  0.98948412],\n",
      "       [-0.03473969, -0.2145809 , -0.31142155,  0.89646732],\n",
      "       [-2.56156947, -0.463892  ,  1.55138143,  1.355965  ],\n",
      "       [ 1.32290311, -2.6701436 ,  0.18579566, -0.0193926 ],\n",
      "       [ 0.17804258, -0.71406488, -0.57618048, -0.12780005],\n",
      "       [ 0.13013818,  0.09895801, -0.78004502, -0.216928  ]])]\n",
      "2\n",
      "(784, 6)\n"
     ]
    }
   ],
   "source": [
    "from sklearn.datasets import fetch_openml\n",
    "from sklearn.neural_network import MLPClassifier\n",
    "import matplotlib.pyplot as plt\n",
    "import numpy as np\n",
    "\n",
    "X, y = fetch_openml('mnist_784', version=1, return_X_y=True)\n",
    "y = y.astype('int')\n",
    "\n",
    "X5 = X[y <= 3]\n",
    "y5 = y[y <= 3]\n",
    "\n",
    "mlp=MLPClassifier(\n",
    "  hidden_layer_sizes=(6,), \n",
    "  max_iter=200, alpha=1e-4,\n",
    "  solver='sgd', random_state=2)\n",
    "\n",
    "mlp.fit(X5, y5)\n",
    "\n",
    "print(mlp.coefs_)\n",
    "print(len(mlp.coefs_))\n",
    "print(mlp.coefs_[0].shape)"
   ]
  },
  {
   "cell_type": "code",
   "execution_count": null,
   "metadata": {},
   "outputs": [],
   "source": [
    "#project\n",
    "\n",
    "import math\n",
    "w1, w2, b, x1, x2 = [float(x) for x in input().split()]\n",
    "activation_function = -1*((w1*x1)+(w2*x2)+b)\n",
    "y = 1 / (1 + math.e ** activation_function) \n",
    "print(round(y,4))"
   ]
  }
 ],
 "metadata": {
  "kernelspec": {
   "display_name": "Python 3",
   "language": "python",
   "name": "python3"
  },
  "language_info": {
   "codemirror_mode": {
    "name": "ipython",
    "version": 3
   },
   "file_extension": ".py",
   "mimetype": "text/x-python",
   "name": "python",
   "nbconvert_exporter": "python",
   "pygments_lexer": "ipython3",
   "version": "3.9.1"
  }
 },
 "nbformat": 4,
 "nbformat_minor": 4
}
