{
 "cells": [
  {
   "cell_type": "code",
   "execution_count": 4,
   "metadata": {},
   "outputs": [
    {
     "data": {
      "text/plain": [
       "'tree.png'"
      ]
     },
     "execution_count": 4,
     "metadata": {},
     "output_type": "execute_result"
    }
   ],
   "source": [
    "import pandas as pd \n",
    "import numpy as np \n",
    "from sklearn.tree import DecisionTreeClassifier \n",
    "from sklearn.tree import export_graphviz \n",
    "import graphviz \n",
    "from IPython.display import Image \n",
    "\n",
    "df = pd.read_csv('https://sololearn.com/uploads/files/titanic.csv')\n",
    "df['male'] = df['Sex'] == 'male'\n",
    "\n",
    "feature_names = ['Pclass', 'male']\n",
    "X = df[feature_names].values\n",
    "y = df['Survived'].values\n",
    "\n",
    "dt = DecisionTreeClassifier()\n",
    "dt.fit(X,y)\n",
    "\n",
    "dot_file = export_graphviz(dt, feature_names = feature_names)\n",
    "graph = graphviz.Source(dot_file)\n",
    "graph.render(filename=\"tree\", format='png', cleanup=True) "
   ]
  },
  {
   "cell_type": "code",
   "execution_count": 3,
   "metadata": {},
   "outputs": [
    {
     "data": {
      "text/plain": [
       "'tree1.png'"
      ]
     },
     "execution_count": 3,
     "metadata": {},
     "output_type": "execute_result"
    }
   ],
   "source": [
    "import pandas as pd \n",
    "import numpy as np \n",
    "from sklearn.tree import DecisionTreeClassifier \n",
    "from sklearn.tree import export_graphviz \n",
    "import graphviz \n",
    "from IPython.display import Image \n",
    "\n",
    "df = pd.read_csv('https://sololearn.com/uploads/files/titanic.csv')\n",
    "df['male'] = df['Sex'] == 'male'\n",
    "\n",
    "feature_names = ['Pclass', 'male']\n",
    "X = df[feature_names].values\n",
    "y = df['Survived'].values\n",
    "\n",
    "dt = DecisionTreeClassifier(max_depth=3, min_samples_leaf=2, max_leaf_nodes=10)\n",
    "dt.fit(X,y)\n",
    "\n",
    "dot_file = export_graphviz(dt, feature_names = feature_names)\n",
    "graph = graphviz.Source(dot_file)\n",
    "graph.render(filename=\"tree1\", format='png', cleanup=True) "
   ]
  },
  {
   "cell_type": "code",
   "execution_count": 9,
   "metadata": {},
   "outputs": [
    {
     "name": "stdout",
     "output_type": "stream",
     "text": [
      "best params: {'max_depth': 15, 'max_leaf_nodes': 35, 'min_samples_leaf': 1}\n",
      "best score: 0.7721049704732739\n"
     ]
    }
   ],
   "source": [
    "import pandas as pd \n",
    "import numpy as np \n",
    "from sklearn.tree import DecisionTreeClassifier \n",
    "from sklearn.tree import export_graphviz \n",
    "import graphviz \n",
    "from IPython.display import Image\n",
    "from sklearn.model_selection import GridSearchCV\n",
    "\n",
    "df = pd.read_csv('https://sololearn.com/uploads/files/titanic.csv')\n",
    "df['male'] = df['Sex'] == 'male'\n",
    "X = df[['Pclass', 'male', 'Age', 'Siblings/Spouses', 'Parents/Children', 'Fare']].values\n",
    "y = df['Survived'].values\n",
    "\n",
    "param_grid = {\n",
    "    'max_depth': [5,15,25],\n",
    "    'min_samples_leaf': [1,3],\n",
    "    'max_leaf_nodes': [10,20,35,50]}\n",
    "\n",
    "dt = DecisionTreeClassifier()\n",
    "gs = GridSearchCV(dt, param_grid, scoring='f1', cv=5)\n",
    "gs.fit(X,y)\n",
    "\n",
    "print(\"best params:\", gs.best_params_)\n",
    "print(\"best score:\", gs.best_score_)"
   ]
  },
  {
   "cell_type": "code",
   "execution_count": null,
   "metadata": {},
   "outputs": [],
   "source": []
  }
 ],
 "metadata": {
  "kernelspec": {
   "display_name": "Python 3",
   "language": "python",
   "name": "python3"
  },
  "language_info": {
   "codemirror_mode": {
    "name": "ipython",
    "version": 3
   },
   "file_extension": ".py",
   "mimetype": "text/x-python",
   "name": "python",
   "nbconvert_exporter": "python",
   "pygments_lexer": "ipython3",
   "version": "3.9.1"
  }
 },
 "nbformat": 4,
 "nbformat_minor": 4
}
