{
 "cells": [
  {
   "cell_type": "code",
   "execution_count": 1,
   "metadata": {},
   "outputs": [
    {
     "name": "stdout",
     "output_type": "stream",
     "text": [
      "accuracy: 0.8049605411499436\n",
      "precision: 0.7734627831715211\n",
      "recall: 0.6988304093567251\n",
      "f1 score: 0.7342549923195083\n"
     ]
    }
   ],
   "source": [
    "import pandas as pd\n",
    "import matplotlib.pyplot as plt\n",
    "from sklearn.linear_model import LogisticRegression\n",
    "from sklearn.metrics import accuracy_score, precision_score, recall_score, f1_score\n",
    "\n",
    "df = pd.read_csv('https://sololearn.com/uploads/files/titanic.csv')\n",
    "df['male'] = df['Sex'] == 'male'\n",
    "X = df[['Pclass', 'male', 'Age', 'Siblings/Spouses', 'Parents/Children', 'Fare']].values\n",
    "y = df['Survived'].values\n",
    "\n",
    "model = LogisticRegression()\n",
    "model.fit(X,y)\n",
    "\n",
    "y_pred = model.predict(X)\n",
    "\n",
    "print(\"accuracy:\", accuracy_score(y,y_pred))\n",
    "print(\"precision:\", precision_score(y,y_pred))\n",
    "print(\"recall:\", recall_score(y,y_pred))\n",
    "print(\"f1 score:\", f1_score(y,y_pred))"
   ]
  },
  {
   "cell_type": "code",
   "execution_count": 4,
   "metadata": {},
   "outputs": [
    {
     "name": "stdout",
     "output_type": "stream",
     "text": [
      "[[475  70]\n",
      " [103 239]]\n"
     ]
    }
   ],
   "source": [
    "from sklearn.metrics import confusion_matrix\n",
    "print(confusion_matrix(y,y_pred))"
   ]
  },
  {
   "cell_type": "code",
   "execution_count": 15,
   "metadata": {},
   "outputs": [
    {
     "name": "stdout",
     "output_type": "stream",
     "text": [
      "whole dataset: (887, 6) (887,)\n",
      "training dataset: (665, 6) (665,)\n",
      "test dataset: (222, 6) (222,)\n"
     ]
    }
   ],
   "source": [
    "import pandas as pd\n",
    "from sklearn.linear_model import LogisticRegression\n",
    "from sklearn.model_selection import train_test_split\n",
    "\n",
    "df = pd.read_csv('https://sololearn.com/uploads/files/titanic.csv')\n",
    "df['male'] = df['Sex'] == 'male'\n",
    "X = df[['Pclass', 'male', 'Age', 'Siblings/Spouses', 'Parents/Children', 'Fare']].values\n",
    "y = df['Survived'].values\n",
    "\n",
    "X_train, X_test, y_train, y_test = train_test_split(X,y)\n",
    "\n",
    "print(\"whole dataset:\", X.shape, y.shape)\n",
    "print(\"training dataset:\", X_train.shape, y_train.shape)\n",
    "print(\"test dataset:\", X_test.shape, y_test.shape)\n"
   ]
  },
  {
   "cell_type": "code",
   "execution_count": 17,
   "metadata": {},
   "outputs": [
    {
     "name": "stdout",
     "output_type": "stream",
     "text": [
      "0.8063063063063063\n",
      "accuracy: 0.8063063063063063\n",
      "precision: 0.7901234567901234\n",
      "recall: 0.7111111111111111\n",
      "f1 score: 0.7485380116959064\n"
     ]
    }
   ],
   "source": [
    "import pandas as pd\n",
    "from sklearn.linear_model import LogisticRegression\n",
    "from sklearn.model_selection import train_test_split\n",
    "\n",
    "df = pd.read_csv('https://sololearn.com/uploads/files/titanic.csv')\n",
    "df['male'] = df['Sex'] == 'male'\n",
    "X = df[['Pclass', 'male', 'Age', 'Siblings/Spouses', 'Parents/Children', 'Fare']].values\n",
    "y = df['Survived'].values\n",
    "\n",
    "X_train, X_test, y_train, y_test = train_test_split(X,y)\n",
    "\n",
    "model = LogisticRegression()\n",
    "model.fit(X_train, y_train)\n",
    "print(model.score(X_test, y_test))\n",
    "\n",
    "y_pred = model.predict(X_test)\n",
    "\n",
    "print(\"accuracy:\", accuracy_score(y_test,y_pred))\n",
    "print(\"precision:\", precision_score(y_test,y_pred))\n",
    "print(\"recall:\", recall_score(y_test,y_pred))\n",
    "print(\"f1 score:\", f1_score(y_test,y_pred))"
   ]
  },
  {
   "cell_type": "code",
   "execution_count": 19,
   "metadata": {},
   "outputs": [
    {
     "name": "stdout",
     "output_type": "stream",
     "text": [
      "X_train [[2, 2], [4, 4], [1, 1]]\n",
      "X_test [[3, 3]]\n"
     ]
    }
   ],
   "source": [
    "from sklearn.model_selection import train_test_split\n",
    "\n",
    "X = [[1,1], [2,2], [3,3], [4,4]]\n",
    "y = [0, 0, 1, 1]\n",
    "\n",
    "X_train, X_test, y_train, y_test = train_test_split(X, y)\n",
    "print('X_train', X_train)\n",
    "print('X_test', X_test)"
   ]
  },
  {
   "cell_type": "code",
   "execution_count": 23,
   "metadata": {},
   "outputs": [
    {
     "name": "stdout",
     "output_type": "stream",
     "text": [
      "X_train [[3, 3], [1, 1], [4, 4]]\n",
      "X_test [[2, 2]]\n"
     ]
    }
   ],
   "source": [
    "from sklearn.model_selection import train_test_split\n",
    "\n",
    "X = [[1,1], [2,2], [3,3], [4,4]]\n",
    "y = [0, 0, 1, 1]\n",
    "\n",
    "X_train, X_test, y_train, y_test = train_test_split(X, y, random_state = 27)\n",
    "print('X_train', X_train)\n",
    "print('X_test', X_test)"
   ]
  },
  {
   "cell_type": "code",
   "execution_count": 33,
   "metadata": {},
   "outputs": [
    {
     "name": "stdout",
     "output_type": "stream",
     "text": [
      "sensivity: 0.6829268292682927\n",
      "spesificity: (array([0.83225806, 0.8358209 ]), array([0.92142857, 0.68292683]), array([0.87457627, 0.75167785]), array([140,  82], dtype=int64))\n"
     ]
    }
   ],
   "source": [
    "import pandas as pd\n",
    "import numpy as np\n",
    "from sklearn.linear_model import LogisticRegression\n",
    "from sklearn.model_selection import train_test_split\n",
    "from sklearn.metrics import recall_score, precision_recall_fscore_support\n",
    "\n",
    "sensivity_score = recall_score\n",
    "def spesificity_score(y_true, y_pred):\n",
    "    p, r, f, s = precision_recall_fscore_support(y_true, y_pred)\n",
    "    return r[0]\n",
    "\n",
    "df = pd.read_csv('https://sololearn.com/uploads/files/titanic.csv')\n",
    "df['male'] = df['Sex'] == 'male'\n",
    "X = df[['Pclass', 'male', 'Age', 'Siblings/Spouses', 'Parents/Children', 'Fare']].values\n",
    "y = df['Survived'].values\n",
    "\n",
    "X_train, X_test, y_train, y_test = train_test_split(X,y,random_state=5)\n",
    "\n",
    "model = LogisticRegression()\n",
    "model.fit(X_train, y_train)\n",
    "y_pred = model.predict(X_test)\n",
    "\n",
    "print(\"sensivity:\", sensivity_score(y_test, y_pred))\n",
    "print(\"spesificity:\", precision_recall_fscore_support(y_test, y_pred))"
   ]
  },
  {
   "cell_type": "code",
   "execution_count": 34,
   "metadata": {},
   "outputs": [
    {
     "name": "stdout",
     "output_type": "stream",
     "text": [
      "predict proba:\n",
      "[[0.46054651 0.53945349]\n",
      " [0.88810004 0.11189996]\n",
      " [0.13520595 0.86479405]\n",
      " [0.62497138 0.37502862]\n",
      " [0.73722964 0.26277036]\n",
      " [0.85687059 0.14312941]\n",
      " [0.84133142 0.15866858]\n",
      " [0.10657184 0.89342816]\n",
      " [0.1260976  0.8739024 ]\n",
      " [0.42023759 0.57976241]\n",
      " [0.92436653 0.07563347]\n",
      " [0.83523916 0.16476084]\n",
      " [0.13698994 0.86301006]\n",
      " [0.90217307 0.09782693]\n",
      " [0.60512309 0.39487691]\n",
      " [0.79564749 0.20435251]\n",
      " [0.17515507 0.82484493]\n",
      " [0.46654882 0.53345118]\n",
      " [0.24196013 0.75803987]\n",
      " [0.89247708 0.10752292]\n",
      " [0.284676   0.715324  ]\n",
      " [0.87814619 0.12185381]\n",
      " [0.86200177 0.13799823]\n",
      " [0.87075274 0.12924726]\n",
      " [0.86658854 0.13341146]\n",
      " [0.22589824 0.77410176]\n",
      " [0.85172042 0.14827958]\n",
      " [0.85167655 0.14832345]\n",
      " [0.56230342 0.43769658]\n",
      " [0.64036583 0.35963417]\n",
      " [0.89256704 0.10743296]\n",
      " [0.04988472 0.95011528]\n",
      " [0.51041577 0.48958423]\n",
      " [0.87120552 0.12879448]\n",
      " [0.94761335 0.05238665]\n",
      " [0.91062426 0.08937574]\n",
      " [0.03650844 0.96349156]\n",
      " [0.59265923 0.40734077]\n",
      " [0.62739715 0.37260285]\n",
      " [0.95937488 0.04062512]\n",
      " [0.22725309 0.77274691]\n",
      " [0.90920918 0.09079082]\n",
      " [0.3526453  0.6473547 ]\n",
      " [0.54176818 0.45823182]\n",
      " [0.44435363 0.55564637]\n",
      " [0.82171299 0.17828701]\n",
      " [0.74247722 0.25752278]\n",
      " [0.89824854 0.10175146]\n",
      " [0.86182954 0.13817046]\n",
      " [0.26830514 0.73169486]\n",
      " [0.78056544 0.21943456]\n",
      " [0.84654302 0.15345698]\n",
      " [0.6998287  0.3001713 ]\n",
      " [0.32695807 0.67304193]\n",
      " [0.85116685 0.14883315]\n",
      " [0.72243802 0.27756198]\n",
      " [0.07465492 0.92534508]\n",
      " [0.04492801 0.95507199]\n",
      " [0.87393719 0.12606281]\n",
      " [0.33717682 0.66282318]\n",
      " [0.85178183 0.14821817]\n",
      " [0.14217312 0.85782688]\n",
      " [0.84102671 0.15897329]\n",
      " [0.92328978 0.07671022]\n",
      " [0.85160812 0.14839188]\n",
      " [0.90966476 0.09033524]\n",
      " [0.96516899 0.03483101]\n",
      " [0.68062885 0.31937115]\n",
      " [0.37301709 0.62698291]\n",
      " [0.49744144 0.50255856]\n",
      " [0.69670171 0.30329829]\n",
      " [0.87148845 0.12851155]\n",
      " [0.07718485 0.92281515]\n",
      " [0.6017015  0.3982985 ]\n",
      " [0.61536683 0.38463317]\n",
      " [0.04765444 0.95234556]\n",
      " [0.05302544 0.94697456]\n",
      " [0.95973997 0.04026003]\n",
      " [0.84931241 0.15068759]\n",
      " [0.72370258 0.27629742]\n",
      " [0.99575382 0.00424618]\n",
      " [0.88849983 0.11150017]\n",
      " [0.28460482 0.71539518]\n",
      " [0.85758228 0.14241772]\n",
      " [0.28483401 0.71516599]\n",
      " [0.90709055 0.09290945]\n",
      " [0.51997105 0.48002895]\n",
      " [0.91875679 0.08124321]\n",
      " [0.60923515 0.39076485]\n",
      " [0.89636128 0.10363872]\n",
      " [0.94247855 0.05752145]\n",
      " [0.31752833 0.68247167]\n",
      " [0.73816468 0.26183532]\n",
      " [0.95340162 0.04659838]\n",
      " [0.37742281 0.62257719]\n",
      " [0.8355878  0.1644122 ]\n",
      " [0.93778967 0.06221033]\n",
      " [0.69670171 0.30329829]\n",
      " [0.17416147 0.82583853]\n",
      " [0.80299354 0.19700646]\n",
      " [0.13201835 0.86798165]\n",
      " [0.924437   0.075563  ]\n",
      " [0.91885077 0.08114923]\n",
      " [0.90372851 0.09627149]\n",
      " [0.10674313 0.89325687]\n",
      " [0.23086955 0.76913045]\n",
      " [0.86616095 0.13383905]\n",
      " [0.82705086 0.17294914]\n",
      " [0.88855372 0.11144628]\n",
      " [0.92050557 0.07949443]\n",
      " [0.62238357 0.37761643]\n",
      " [0.10211845 0.89788155]\n",
      " [0.86956933 0.13043067]\n",
      " [0.51857668 0.48142332]\n",
      " [0.89507425 0.10492575]\n",
      " [0.84642718 0.15357282]\n",
      " [0.89254039 0.10745961]\n",
      " [0.11524085 0.88475915]\n",
      " [0.8668039  0.1331961 ]\n",
      " [0.66905541 0.33094459]\n",
      " [0.29332898 0.70667102]\n",
      " [0.12007603 0.87992397]\n",
      " [0.85677685 0.14322315]\n",
      " [0.84114434 0.15885566]\n",
      " [0.49063125 0.50936875]\n",
      " [0.44640133 0.55359867]\n",
      " [0.77480166 0.22519834]\n",
      " [0.91062426 0.08937574]\n",
      " [0.74856103 0.25143897]\n",
      " [0.64318776 0.35681224]\n",
      " [0.72220967 0.27779033]\n",
      " [0.96090821 0.03909179]\n",
      " [0.82171299 0.17828701]\n",
      " [0.23215468 0.76784532]\n",
      " [0.91394145 0.08605855]\n",
      " [0.82642975 0.17357025]\n",
      " [0.95064406 0.04935594]\n",
      " [0.89656761 0.10343239]\n",
      " [0.57170922 0.42829078]\n",
      " [0.8861574  0.1138426 ]\n",
      " [0.94355129 0.05644871]\n",
      " [0.59883168 0.40116832]\n",
      " [0.82485307 0.17514693]\n",
      " [0.10489915 0.89510085]\n",
      " [0.12055164 0.87944836]\n",
      " [0.87597398 0.12402602]\n",
      " [0.71190398 0.28809602]\n",
      " [0.08343316 0.91656684]\n",
      " [0.93670035 0.06329965]\n",
      " [0.82770652 0.17229348]\n",
      " [0.43972211 0.56027789]\n",
      " [0.2883817  0.7116183 ]\n",
      " [0.91730356 0.08269644]\n",
      " [0.92597463 0.07402537]\n",
      " [0.92610309 0.07389691]\n",
      " [0.25730204 0.74269796]\n",
      " [0.72341679 0.27658321]\n",
      " [0.87823027 0.12176973]\n",
      " [0.9151264  0.0848736 ]\n",
      " [0.9141045  0.0858955 ]\n",
      " [0.05760757 0.94239243]\n",
      " [0.94078789 0.05921211]\n",
      " [0.16335032 0.83664968]\n",
      " [0.925245   0.074755  ]\n",
      " [0.94393649 0.05606351]\n",
      " [0.94597971 0.05402029]\n",
      " [0.10242664 0.89757336]\n",
      " [0.62161705 0.37838295]\n",
      " [0.68571593 0.31428407]\n",
      " [0.89585817 0.10414183]\n",
      " [0.04083072 0.95916928]\n",
      " [0.18785014 0.81214986]\n",
      " [0.45255523 0.54744477]\n",
      " [0.67787683 0.32212317]\n",
      " [0.892111   0.107889  ]\n",
      " [0.2395365  0.7604635 ]\n",
      " [0.88854227 0.11145773]\n",
      " [0.10987872 0.89012128]\n",
      " [0.94019641 0.05980359]\n",
      " [0.93882567 0.06117433]\n",
      " [0.79577687 0.20422313]\n",
      " [0.49522487 0.50477513]\n",
      " [0.75867117 0.24132883]\n",
      " [0.90726995 0.09273005]\n",
      " [0.90365294 0.09634706]\n",
      " [0.06064463 0.93935537]\n",
      " [0.56528425 0.43471575]\n",
      " [0.82987296 0.17012704]\n",
      " [0.86445257 0.13554743]\n",
      " [0.46033941 0.53966059]\n",
      " [0.84642718 0.15357282]\n",
      " [0.33928005 0.66071995]\n",
      " [0.87603435 0.12396565]\n",
      " [0.84648287 0.15351713]\n",
      " [0.70686053 0.29313947]\n",
      " [0.85126363 0.14873637]\n",
      " [0.47905797 0.52094203]\n",
      " [0.92539645 0.07460355]\n",
      " [0.2395365  0.7604635 ]\n",
      " [0.8964387  0.1035613 ]\n",
      " [0.65157867 0.34842133]\n",
      " [0.53351567 0.46648433]\n",
      " [0.84638806 0.15361194]\n",
      " [0.32586015 0.67413985]\n",
      " [0.86966221 0.13033779]\n",
      " [0.67288837 0.32711163]\n",
      " [0.66905541 0.33094459]\n",
      " [0.37932477 0.62067523]\n",
      " [0.63392071 0.36607929]\n",
      " [0.95150918 0.04849082]\n",
      " [0.90433746 0.09566254]\n",
      " [0.95359143 0.04640857]\n",
      " [0.20277609 0.79722391]\n",
      " [0.03729443 0.96270557]\n",
      " [0.72358397 0.27641603]\n",
      " [0.07284682 0.92715318]\n",
      " [0.54861337 0.45138663]\n",
      " [0.88858239 0.11141761]\n",
      " [0.84113814 0.15886186]\n",
      " [0.68741857 0.31258143]\n",
      " [0.72019758 0.27980242]\n",
      " [0.88458615 0.11541385]]\n",
      "precision: 0.9230769230769231\n",
      "recall: 0.43902439024390244\n"
     ]
    }
   ],
   "source": [
    "import pandas as pd\n",
    "import numpy as np\n",
    "from sklearn.linear_model import LogisticRegression\n",
    "from sklearn.model_selection import train_test_split\n",
    "from sklearn.metrics import recall_score, precision_score\n",
    "\n",
    "df = pd.read_csv('https://sololearn.com/uploads/files/titanic.csv')\n",
    "df['male'] = df['Sex'] == 'male'\n",
    "X = df[['Pclass', 'male', 'Age', 'Siblings/Spouses', 'Parents/Children', 'Fare']].values\n",
    "y = df['Survived'].values\n",
    "\n",
    "X_train, X_test, y_train, y_test = train_test_split(X,y,random_state=5)\n",
    "\n",
    "model = LogisticRegression()\n",
    "model.fit(X_train, y_train)\n",
    "print(\"predict proba:\")\n",
    "print(model.predict_proba(X_test))\n",
    "\n",
    "y_pred = model.predict_proba(X_test)[:,1] > 0.75\n",
    "print(\"precision:\", precision_score(y_test, y_pred))\n",
    "print(\"recall:\", recall_score(y_test, y_pred))"
   ]
  },
  {
   "cell_type": "code",
   "execution_count": 39,
   "metadata": {},
   "outputs": [
    {
     "data": {
      "image/png": "[encoded data removed]",
      "text/plain": [
       "<Figure size 432x288 with 1 Axes>"
      ]
     },
     "metadata": {
      "needs_background": "light"
     },
     "output_type": "display_data"
    }
   ],
   "source": [
    "import pandas as pd\n",
    "import numpy as np\n",
    "from sklearn.linear_model import LogisticRegression\n",
    "from sklearn.model_selection import train_test_split\n",
    "from sklearn.metrics import recall_score, precision_score, roc_curve\n",
    "\n",
    "df = pd.read_csv('https://sololearn.com/uploads/files/titanic.csv')\n",
    "df['male'] = df['Sex'] == 'male'\n",
    "X = df[['Pclass', 'male', 'Age', 'Siblings/Spouses', 'Parents/Children', 'Fare']].values\n",
    "y = df['Survived'].values\n",
    "\n",
    "X_train, X_test, y_train, y_test = train_test_split(X,y,random_state=5)\n",
    "\n",
    "model = LogisticRegression()\n",
    "model.fit(X_train, y_train)\n",
    "y_pred_proba = model.predict_proba(X_test)\n",
    "fpr, tpr, thresholds = roc_curve(y_test, y_pred_proba[:,1])\n",
    "\n",
    "plt.plot(fpr, tpr)\n",
    "plt.plot([0,1], [0,1], linestyle='--')\n",
    "plt.xlim([0.0, 1.0])\n",
    "plt.ylim([0.0, 1.0])\n",
    "plt.xlabel('1 - specificity')\n",
    "plt.ylabel('sensivity')\n",
    "plt.show()"
   ]
  },
  {
   "cell_type": "code",
   "execution_count": 48,
   "metadata": {},
   "outputs": [
    {
     "name": "stdout",
     "output_type": "stream",
     "text": [
      "model 1 AUC score: 0.8572299651567944\n",
      "model 1 AUC score: 0.8390679442508711\n"
     ]
    },
    {
     "data": {
      "image/png": "[encoded data removed]",
      "text/plain": [
       "<Figure size 432x288 with 1 Axes>"
      ]
     },
     "metadata": {
      "needs_background": "light"
     },
     "output_type": "display_data"
    }
   ],
   "source": [
    "import pandas as pd\n",
    "from sklearn.linear_model import LogisticRegression\n",
    "from sklearn.model_selection import train_test_split\n",
    "from sklearn.metrics import roc_auc_score, roc_curve\n",
    "\n",
    "df = pd.read_csv('https://sololearn.com/uploads/files/titanic.csv')\n",
    "df['male'] = df['Sex'] == 'male'\n",
    "X = df[['Pclass', 'male', 'Age', 'Siblings/Spouses', 'Parents/Children', 'Fare']].values\n",
    "y = df['Survived'].values\n",
    "\n",
    "X_train, X_test, y_train, y_test = train_test_split(X,y,random_state=5)\n",
    "\n",
    "model1 = LogisticRegression()\n",
    "model1.fit(X_train, y_train)\n",
    "y_pred_proba1 = model1.predict_proba(X_test)\n",
    "print(\"model 1 AUC score:\", roc_auc_score(y_test, y_pred_proba1[:,1]))\n",
    "fpr1, tpr1, thresholds = roc_curve(y_test, y_pred_proba1[:,1])\n",
    "\n",
    "model2 = LogisticRegression()\n",
    "model2.fit(X_train[:, 0:2], y_train)\n",
    "y_pred_proba2 = model2.predict_proba(X_test[:, 0:2])\n",
    "print(\"model 1 AUC score:\", roc_auc_score(y_test, y_pred_proba2[:,1]))\n",
    "fpr2, tpr2, thresholds = roc_curve(y_test, y_pred_proba2[:,1])\n",
    "\n",
    "plt.plot(fpr1, tpr1)\n",
    "plt.plot(fpr2, tpr2)\n",
    "plt.plot([0,1], [0,1], linestyle='--')\n",
    "plt.xlim([0.0, 1.0])\n",
    "plt.ylim([0.0, 1.0])\n",
    "plt.xlabel('1 - specificity')\n",
    "plt.ylabel('sensivity')\n",
    "plt.show()"
   ]
  },
  {
   "cell_type": "code",
   "execution_count": 55,
   "metadata": {},
   "outputs": [
    {
     "name": "stdout",
     "output_type": "stream",
     "text": [
      "accuracy: 0.76126\n",
      "precision: 0.75610\n",
      "recall: 0.65263\n",
      "f1 score: 0.70056\n"
     ]
    }
   ],
   "source": [
    "import pandas as pd\n",
    "from sklearn.linear_model import LogisticRegression\n",
    "from sklearn.model_selection import train_test_split\n",
    "from sklearn.metrics import accuracy_score, precision_score, recall_score, f1_score\n",
    "import numpy as np\n",
    "\n",
    "df = pd.read_csv('https://sololearn.com/uploads/files/titanic.csv')\n",
    "df['male'] = df['Sex'] == 'male'\n",
    "X = df[['Pclass', 'male', 'Age', 'Siblings/Spouses', 'Parents/Children', 'Fare']].values\n",
    "y = df['Survived'].values\n",
    "\n",
    "X_train, X_test, y_train, y_test = train_test_split(X,y)\n",
    "\n",
    "#build the model\n",
    "model = LogisticRegression()\n",
    "model.fit(X_train, y_train)\n",
    "\n",
    "#evaluating the model\n",
    "y_pred = model.predict(X_test)\n",
    "print(\"accuracy: {0:.5f}\".format(accuracy_score(y_test,y_pred)))\n",
    "print(\"precision: {0:.5f}\".format(precision_score(y_test,y_pred)))\n",
    "print(\"recall: {0:.5f}\".format(recall_score(y_test,y_pred)))\n",
    "print(\"f1 score: {0:.5f}\".format(f1_score(y_test,y_pred)))"
   ]
  },
  {
   "cell_type": "code",
   "execution_count": 58,
   "metadata": {},
   "outputs": [
    {
     "name": "stdout",
     "output_type": "stream",
     "text": [
      "[0 2 4 5] [1 3]\n",
      "[1 2 3 4] [0 5]\n",
      "[0 1 3 5] [2 4]\n"
     ]
    }
   ],
   "source": [
    "import pandas as pd\n",
    "from sklearn.model_selection import KFold\n",
    "\n",
    "df = pd.read_csv('https://sololearn.com/uploads/files/titanic.csv')\n",
    "X = df[['Age', 'Fare']].values[:6]\n",
    "y = df['Survived'].values[:6]\n",
    "\n",
    "kf = KFold(n_splits=3, shuffle=True)\n",
    "for train, test in kf.split(X):\n",
    "    print(train, test)"
   ]
  },
  {
   "cell_type": "code",
   "execution_count": 59,
   "metadata": {},
   "outputs": [
    {
     "name": "stdout",
     "output_type": "stream",
     "text": [
      "training set indices: [2 3 4 5]\n",
      "test set indices: [0 1]\n",
      "X_train:\n",
      "[[26.      7.925 ]\n",
      " [35.     53.1   ]\n",
      " [35.      8.05  ]\n",
      " [27.      8.4583]]\n",
      "X_test\n",
      "[[22.      7.25  ]\n",
      " [38.     71.2833]]\n",
      "y_test [0 1]\n"
     ]
    }
   ],
   "source": [
    "import pandas as pd\n",
    "from sklearn.model_selection import KFold\n",
    "\n",
    "df = pd.read_csv('https://sololearn.com/uploads/files/titanic.csv')\n",
    "X = df[['Age', 'Fare']].values[:6]\n",
    "y = df['Survived'].values[:6]\n",
    "\n",
    "kf = KFold(n_splits=3, shuffle=True)\n",
    "\n",
    "splits = list(kf.split(X))\n",
    "first_split = splits[0]\n",
    "train_indices, test_indices = first_split\n",
    "print(\"training set indices:\", train_indices)\n",
    "print(\"test set indices:\", test_indices)\n",
    "\n",
    "X_train = X[train_indices]\n",
    "X_test = X[test_indices]\n",
    "y_train = y[train_indices]\n",
    "y_test = y[test_indices]\n",
    "print(\"X_train:\")\n",
    "print(X_train)\n",
    "print(\"X_test\")\n",
    "print(X_test)\n",
    "print(\"y_test\", y_test)"
   ]
  },
  {
   "cell_type": "code",
   "execution_count": 61,
   "metadata": {},
   "outputs": [
    {
     "name": "stdout",
     "output_type": "stream",
     "text": [
      "0.8033707865168539\n"
     ]
    }
   ],
   "source": [
    "import pandas as pd\n",
    "from sklearn.linear_model import LogisticRegression\n",
    "from sklearn.model_selection import KFold\n",
    "\n",
    "df = pd.read_csv('https://sololearn.com/uploads/files/titanic.csv')\n",
    "df['male'] = df['Sex'] == 'male'\n",
    "X = df[['Pclass', 'male', 'Age', 'Siblings/Spouses', 'Parents/Children', 'Fare']].values\n",
    "y = df['Survived'].values\n",
    "\n",
    "kf = KFold(n_splits=5, shuffle=True)\n",
    "\n",
    "splits = list(kf.split(X))\n",
    "first_split = splits[0]\n",
    "train_indices, test_indices = first_split\n",
    "X_train = X[train_indices]\n",
    "X_test = X[test_indices]\n",
    "y_train = y[train_indices]\n",
    "y_test = y[test_indices]\n",
    "\n",
    "model = LogisticRegression()\n",
    "model.fit(X_train, y_train)\n",
    "print(model.score(X_test, y_test))"
   ]
  },
  {
   "cell_type": "code",
   "execution_count": 66,
   "metadata": {},
   "outputs": [
    {
     "name": "stdout",
     "output_type": "stream",
     "text": [
      "[0.8033707865168539, 0.8033707865168539, 0.8033707865168539, 0.8033707865168539, 0.8033707865168539]\n",
      "0.8033707865168539\n"
     ]
    }
   ],
   "source": [
    "import pandas as pd\n",
    "from sklearn.linear_model import LogisticRegression\n",
    "from sklearn.model_selection import KFold\n",
    "\n",
    "df = pd.read_csv('https://sololearn.com/uploads/files/titanic.csv')\n",
    "df['male'] = df['Sex'] == 'male'\n",
    "X = df[['Pclass', 'male', 'Age', 'Siblings/Spouses', 'Parents/Children', 'Fare']].values\n",
    "y = df['Survived'].values\n",
    "\n",
    "scores = []\n",
    "kf = KFold(n_splits=5, shuffle=True)\n",
    "\n",
    "for train_index, test_index in kf.split(X):\n",
    "    X_train, X_test = X[train_indices], X[test_indices]\n",
    "    y_train, y_test = y[train_indices], y[test_indices]\n",
    "    model = LogisticRegression()\n",
    "    model.fit(X_train, y_train)\n",
    "    scores.append(model.score(X_test, y_test))\n",
    "print(scores)\n",
    "print(np.mean(scores))"
   ]
  },
  {
   "cell_type": "code",
   "execution_count": 8,
   "metadata": {},
   "outputs": [
    {
     "name": "stdout",
     "output_type": "stream",
     "text": [
      "Logistic Regression with all features\n",
      "accuracy: 0.799358852282105\n",
      "precision: 0.765516215122004\n",
      "recall: 0.6975918525918525\n",
      "f1 score: 0.7280899997930229\n",
      "Logistic Regression with Pclass, Sex & Age features\n",
      "accuracy: 0.7948708182568399\n",
      "precision: 0.7520538223659716\n",
      "recall: 0.7080961242777158\n",
      "f1 score: 0.7263041664038384\n",
      "Logistic Regression with Fare and Age\n",
      "accuracy: 0.6606741573033708\n",
      "precision: 0.6644138248336149\n",
      "recall: 0.24594660966268403\n",
      "f1 score: 0.35780657955459494\n"
     ]
    }
   ],
   "source": [
    "import pandas as pd\n",
    "from sklearn.linear_model import LogisticRegression\n",
    "from sklearn.model_selection import KFold\n",
    "from sklearn.metrics import accuracy_score, precision_score, recall_score, f1_score\n",
    "import numpy as np\n",
    "\n",
    "df = pd.read_csv('https://sololearn.com/uploads/files/titanic.csv')\n",
    "df['male'] = df['Sex'] == 'male'\n",
    "\n",
    "kf = KFold(n_splits=5, shuffle=True)\n",
    "\n",
    "X1 = df[['Pclass', 'male', 'Age', 'Siblings/Spouses', 'Parents/Children', 'Fare']].values\n",
    "X2 = df[['Pclass', 'male', 'Age']].values\n",
    "X3 = df[['Fare', 'Age']].values\n",
    "y = df['Survived'].values\n",
    "\n",
    "def score_model(X, y, kf): \n",
    "    accuracy_scores = [] \n",
    "    precision_scores = [] \n",
    "    recall_scores = [] \n",
    "    f1_scores = [] \n",
    "    for train_index, test_index in kf.split(X): \n",
    "        X_train, X_test = X[train_index], X[test_index] \n",
    "        y_train, y_test = y[train_index], y[test_index] \n",
    "        model = LogisticRegression() \n",
    "        model.fit(X_train, y_train) \n",
    "        y_pred = model.predict(X_test) \n",
    "        accuracy_scores.append(accuracy_score(y_test, y_pred)) \n",
    "        precision_scores.append(precision_score(y_test, y_pred)) \n",
    "        recall_scores.append(recall_score(y_test, y_pred)) \n",
    "        f1_scores.append(f1_score(y_test, y_pred))\n",
    "    print(\"accuracy:\", np.mean(accuracy_scores))\n",
    "    print(\"precision:\", np.mean(precision_scores)) \n",
    "    print(\"recall:\", np.mean(recall_scores)) \n",
    "    print(\"f1 score:\", np.mean(f1_scores))\n",
    "print(\"Logistic Regression with all features\")\n",
    "score_model(X1, y, kf)\n",
    "print(\"Logistic Regression with Pclass, Sex & Age features\")\n",
    "score_model(X2, y, kf)\n",
    "print(\"Logistic Regression with Fare and Age\")\n",
    "score_model(X3, y, kf)"
   ]
  },
  {
   "cell_type": "code",
   "execution_count": null,
   "metadata": {},
   "outputs": [],
   "source": [
    "#Project\n",
    "tp, fp, fn, tn = [int(x) for x in input().split()]\n",
    "\n",
    "ac = (tp + tn) / (tp + fp + fn + tn)\n",
    "pr = tp / (tp + fp)\n",
    "re = tp / (tp + fn)\n",
    "f1 = (2 * pr * re) / (pr + re)\n",
    "\n",
    "output = [ac, pr, re, f1]\n",
    "\n",
    "for i in output:\n",
    "\tprint(round(i, 4))"
   ]
  }
 ],
 "metadata": {
  "kernelspec": {
   "display_name": "Python 3",
   "language": "python",
   "name": "python3"
  },
  "language_info": {
   "codemirror_mode": {
    "name": "ipython",
    "version": 3
   },
   "file_extension": ".py",
   "mimetype": "text/x-python",
   "name": "python",
   "nbconvert_exporter": "python",
   "pygments_lexer": "ipython3",
   "version": "3.9.1"
  }
 },
 "nbformat": 4,
 "nbformat_minor": 4
}
